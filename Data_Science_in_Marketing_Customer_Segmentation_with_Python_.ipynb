{
  "nbformat": 4,
  "nbformat_minor": 0,
  "metadata": {
    "colab": {
      "name": "Data Science in Marketing : Customer Segmentation with Python .ipynb",
      "provenance": [],
      "authorship_tag": "ABX9TyPwimYRXYNaR+AUsjU20ADr",
      "include_colab_link": true
    },
    "kernelspec": {
      "name": "python3",
      "display_name": "Python 3"
    }
  },
  "cells": [
    {
      "cell_type": "markdown",
      "metadata": {
        "id": "view-in-github",
        "colab_type": "text"
      },
      "source": [
        "<a href=\"https://colab.research.google.com/github/zulfahnh/Java_8_Basic_Programming/blob/main/Data_Science_in_Marketing_Customer_Segmentation_with_Python_.ipynb\" target=\"_parent\"><img src=\"https://colab.research.google.com/assets/colab-badge.svg\" alt=\"Open In Colab\"/></a>"
      ]
    },
    {
      "cell_type": "code",
      "metadata": {
        "colab": {
          "base_uri": "https://localhost:8080/"
        },
        "id": "_DZ2KMAcGyVt",
        "outputId": "91b96983-168f-4f6e-89d3-fa96fdd18617"
      },
      "source": [
        "!pip install kmodes"
      ],
      "execution_count": null,
      "outputs": [
        {
          "output_type": "stream",
          "text": [
            "Collecting kmodes\n",
            "  Downloading https://files.pythonhosted.org/packages/b2/55/d8ec1ae1f7e1e202a8a4184c6852a3ee993b202b0459672c699d0ac18fc8/kmodes-0.10.2-py2.py3-none-any.whl\n",
            "Requirement already satisfied: scikit-learn>=0.19.0 in /usr/local/lib/python3.6/dist-packages (from kmodes) (0.22.2.post1)\n",
            "Requirement already satisfied: scipy>=0.13.3 in /usr/local/lib/python3.6/dist-packages (from kmodes) (1.4.1)\n",
            "Requirement already satisfied: joblib>=0.11 in /usr/local/lib/python3.6/dist-packages (from kmodes) (1.0.0)\n",
            "Requirement already satisfied: numpy>=1.10.4 in /usr/local/lib/python3.6/dist-packages (from kmodes) (1.19.5)\n",
            "Installing collected packages: kmodes\n",
            "Successfully installed kmodes-0.10.2\n"
          ],
          "name": "stdout"
        }
      ]
    },
    {
      "cell_type": "markdown",
      "metadata": {
        "id": "75Z0AxUnMBt8"
      },
      "source": [
        ""
      ]
    },
    {
      "cell_type": "markdown",
      "metadata": {
        "id": "BDnwB9wrOKT7"
      },
      "source": [
        "# **PART 1**\r\n",
        "\r\n",
        "**Introduction**\r\n",
        "\r\n",
        "Ceritanya Perusahaan sedang berusaha untuk mengenal lebih baik pelanggan nya. Tujuannya agar perusahaan dapat membuat strategi pemasaran yang lebih tepat dan juga efisien bagi tiap tiap pelanggan dan memberikan rekomendasi untuk menyelesaikan permasalahan tersebut.\r\n",
        "\r\n",
        "Salah satu teknik yang bisa dilakukan untuk mengenal lebih baik pelanggan kamu \r\n",
        "adalah dengan melakukan segmentasi pelanggan. Yaitu dengan mengelompokkan pelanggan-pelanggan yang ada berdasarkan kesamaan karakter dari pelanggan tersebut. Untuk melakukan hal tersebut kamu akan menggunakan teknik unsupervised machine learning.\r\n",
        "\r\n",
        "Salah satunya teknik yang dapat digunakan adalah pengaplikasian machine learning menggunakan algoritma K-Prototypes.  Algoritma K-Prototypes merupakan gabungan dari K-Means dan juga K-Modes yang dapat di gunakan untuk melakukan segmentasi dengan data."
      ]
    },
    {
      "cell_type": "code",
      "metadata": {
        "id": "sNY2WAg-E-VT"
      },
      "source": [
        "import pandas as pd  \r\n",
        "import matplotlib.pyplot as plt  \r\n",
        "import seaborn as sns  \r\n",
        "from sklearn.preprocessing import LabelEncoder  \r\n",
        "  \r\n",
        "from kmodes.kmodes import KModes \r\n",
        "from kmodes.kprototypes import KPrototypes  \r\n",
        "  \r\n",
        "import pickle  \r\n",
        "from pathlib import Path "
      ],
      "execution_count": null,
      "outputs": []
    },
    {
      "cell_type": "code",
      "metadata": {
        "colab": {
          "base_uri": "https://localhost:8080/"
        },
        "id": "CKchP7CyFBWY",
        "outputId": "e938383c-f266-4472-eb9b-a021662fc28e"
      },
      "source": [
        "# import dataset  \r\n",
        "df = pd.read_csv(\"https://dqlab-dataset.s3-ap-southeast-1.amazonaws.com/customer_segments.txt\", sep=\"\\t\")  \r\n",
        "  \r\n",
        "# menampilkan data  \r\n",
        "print(df.head())\r\n"
      ],
      "execution_count": null,
      "outputs": [
        {
          "output_type": "stream",
          "text": [
            "  Customer_ID       Nama Pelanggan  ... Tipe Residen  NilaiBelanjaSetahun\n",
            "0    CUST-001         Budi Anggara  ...       Sector              9497927\n",
            "1    CUST-002     Shirley Ratuwati  ...      Cluster              2722700\n",
            "2    CUST-003         Agus Cahyono  ...      Cluster              5286429\n",
            "3    CUST-004     Antonius Winarta  ...      Cluster              5204498\n",
            "4    CUST-005  Ibu Sri Wahyuni, IR  ...      Cluster             10615206\n",
            "\n",
            "[5 rows x 7 columns]\n"
          ],
          "name": "stdout"
        }
      ]
    },
    {
      "cell_type": "code",
      "metadata": {
        "colab": {
          "base_uri": "https://localhost:8080/"
        },
        "id": "UPhjPyUaGbga",
        "outputId": "cccb5a81-110d-4121-ce02-b77c6dc0cf72"
      },
      "source": [
        "# Menampilkan informasi data  \r\n",
        "df.info()"
      ],
      "execution_count": null,
      "outputs": [
        {
          "output_type": "stream",
          "text": [
            "<class 'pandas.core.frame.DataFrame'>\n",
            "RangeIndex: 50 entries, 0 to 49\n",
            "Data columns (total 7 columns):\n",
            " #   Column               Non-Null Count  Dtype \n",
            "---  ------               --------------  ----- \n",
            " 0   Customer_ID          50 non-null     object\n",
            " 1   Nama Pelanggan       50 non-null     object\n",
            " 2   Jenis Kelamin        50 non-null     object\n",
            " 3   Umur                 50 non-null     int64 \n",
            " 4   Profesi              50 non-null     object\n",
            " 5   Tipe Residen         50 non-null     object\n",
            " 6   NilaiBelanjaSetahun  50 non-null     int64 \n",
            "dtypes: int64(2), object(5)\n",
            "memory usage: 2.9+ KB\n"
          ],
          "name": "stdout"
        }
      ]
    },
    {
      "cell_type": "markdown",
      "metadata": {
        "id": "9jUtE-XJPuFF"
      },
      "source": [
        "**Eksplorasi Data Numerik**\r\n",
        "\r\n",
        "Pertama perlu melihat distribusi data dari data yang berjenis numerik. Disini kami akan menggunakan boxplot dan juga histogram untuk melihat distribusi datanya. Untuk membuat grafik tersebut, kami perlu menyiapkan kolom mana yang merupakan kolom numerik. Kemudian menggunakan library seaborn untuk membuat plot masing-masing kolom numerik, yaitu 'Umur' dan 'NilaiBelanjaSetahun'."
      ]
    },
    {
      "cell_type": "code",
      "metadata": {
        "colab": {
          "base_uri": "https://localhost:8080/",
          "height": 1000
        },
        "id": "Sq1PQoNCHMV2",
        "outputId": "23af459f-2abe-483b-e7d9-e0aaff69d552"
      },
      "source": [
        "sns.set(style='white')\r\n",
        "plt.clf()\r\n",
        "  \r\n",
        "# Fungsi untuk membuat plot  \r\n",
        "def observasi_num(features):  \r\n",
        "    fig, axs = plt.subplots(2, 2, figsize=(10, 9))\r\n",
        "    for i, kol in enumerate(features):\r\n",
        "\t    sns.boxplot(df[kol], ax = axs[i][0])\r\n",
        "\t    sns.distplot(df[kol], ax = axs[i][1])   \r\n",
        "\t    axs[i][0].set_title('mean = %.2f\\n median = %.2f\\n std = %.2f'%(df[kol].mean(), df[kol].median(), df[kol].std()))\r\n",
        "    plt.setp(axs)\r\n",
        "    plt.tight_layout()\r\n",
        "    plt.show()  \r\n",
        "  \r\n",
        "# Memanggil fungsi untuk membuat Plot untuk data numerik  \r\n",
        "kolom_numerik = ['Umur','NilaiBelanjaSetahun'] \r\n",
        "observasi_num(kolom_numerik)"
      ],
      "execution_count": null,
      "outputs": [
        {
          "output_type": "stream",
          "text": [
            "/usr/local/lib/python3.6/dist-packages/seaborn/_decorators.py:43: FutureWarning: Pass the following variable as a keyword arg: x. From version 0.12, the only valid positional argument will be `data`, and passing other arguments without an explicit keyword will result in an error or misinterpretation.\n",
            "  FutureWarning\n",
            "/usr/local/lib/python3.6/dist-packages/seaborn/distributions.py:2557: FutureWarning: `distplot` is a deprecated function and will be removed in a future version. Please adapt your code to use either `displot` (a figure-level function with similar flexibility) or `histplot` (an axes-level function for histograms).\n",
            "  warnings.warn(msg, FutureWarning)\n",
            "/usr/local/lib/python3.6/dist-packages/seaborn/_decorators.py:43: FutureWarning: Pass the following variable as a keyword arg: x. From version 0.12, the only valid positional argument will be `data`, and passing other arguments without an explicit keyword will result in an error or misinterpretation.\n",
            "  FutureWarning\n",
            "/usr/local/lib/python3.6/dist-packages/seaborn/distributions.py:2557: FutureWarning: `distplot` is a deprecated function and will be removed in a future version. Please adapt your code to use either `displot` (a figure-level function with similar flexibility) or `histplot` (an axes-level function for histograms).\n",
            "  warnings.warn(msg, FutureWarning)\n"
          ],
          "name": "stderr"
        },
        {
          "output_type": "stream",
          "text": [
            "  adjustable: {'box', 'datalim'}\n",
            "  agg_filter: a filter function, which takes a (m, n, 3) float array and a dpi value, and returns a (m, n, 3) array\n",
            "  alpha: float or None\n",
            "  anchor: 2-tuple of floats or {'C', 'SW', 'S', 'SE', ...}\n",
            "  animated: bool\n",
            "  aspect: {'auto', 'equal'} or num\n",
            "  autoscale_on: bool\n",
            "  autoscalex_on: bool\n",
            "  autoscaley_on: bool\n",
            "  axes_locator: Callable[[Axes, Renderer], Bbox]\n",
            "  axisbelow: bool or 'line'\n",
            "  clip_box: `.Bbox`\n",
            "  clip_on: bool\n",
            "  clip_path: Patch or (Path, Transform) or None\n",
            "  contains: callable\n",
            "  facecolor: color\n",
            "  fc: color\n",
            "  figure: `.Figure`\n",
            "  frame_on: bool\n",
            "  gid: str\n",
            "  in_layout: bool\n",
            "  label: object\n",
            "  navigate: bool\n",
            "  navigate_mode: unknown\n",
            "  path_effects: `.AbstractPathEffect`\n",
            "  picker: None or bool or float or callable\n",
            "  position: [left, bottom, width, height] or `~matplotlib.transforms.Bbox`\n",
            "  prop_cycle: unknown\n",
            "  rasterization_zorder: float or None\n",
            "  rasterized: bool or None\n",
            "  sketch_params: (scale: float, length: float, randomness: float)\n",
            "  snap: bool or None\n",
            "  subplotspec: unknown\n",
            "  title: str\n",
            "  transform: `.Transform`\n",
            "  url: str\n",
            "  visible: bool\n",
            "  xbound: unknown\n",
            "  xlabel: str\n",
            "  xlim: (bottom: float, top: float)\n",
            "  xmargin: float greater than -0.5\n",
            "  xscale: {\"linear\", \"log\", \"symlog\", \"logit\", ...}\n",
            "  xticklabels: List[str]\n",
            "  xticks: unknown\n",
            "  ybound: unknown\n",
            "  ylabel: str\n",
            "  ylim: (bottom: float, top: float)\n",
            "  ymargin: float greater than -0.5\n",
            "  yscale: {\"linear\", \"log\", \"symlog\", \"logit\", ...}\n",
            "  yticklabels: List[str]\n",
            "  yticks: unknown\n",
            "  zorder: float\n"
          ],
          "name": "stdout"
        },
        {
          "output_type": "display_data",
          "data": {
            "text/plain": [
              "<Figure size 432x288 with 0 Axes>"
            ]
          },
          "metadata": {
            "tags": []
          }
        },
        {
          "output_type": "display_data",
          "data": {
            "image/png": "[encoded data removed]",
            "text/plain": [
              "<Figure size 720x648 with 4 Axes>"
            ]
          },
          "metadata": {
            "tags": []
          }
        }
      ]
    },
    {
      "cell_type": "markdown",
      "metadata": {
        "id": "NOkhvJz2QBS-"
      },
      "source": [
        "**Eksplorasi Data Kategorikal**\r\n",
        "\r\n",
        "Selain data numerikal perlu melihat bagaimana persebaran data pada kolom-kolom yang memiliki jenis kategorikal yaitu Jenis Kelamin, Profesi dan Tipe Residen. hal ini dapat diselesaikan dengan menggunakan countplot dari library seaborn."
      ]
    },
    {
      "cell_type": "code",
      "metadata": {
        "colab": {
          "base_uri": "https://localhost:8080/",
          "height": 932
        },
        "id": "2wAgKQStIEjB",
        "outputId": "f84815e5-632b-4ada-ef73-59fb2239d774"
      },
      "source": [
        "sns.set(style='white')\r\n",
        "plt.clf()\r\n",
        "  \r\n",
        "# Menyiapkan kolom kategorikal  \r\n",
        "kolom_kategorikal = ['Jenis Kelamin','Profesi','Tipe Residen']  \r\n",
        "\r\n",
        "# Membuat canvas\r\n",
        "fig, axs = plt.subplots(3,1,figsize=(7,10)) \r\n",
        "\r\n",
        "# Membuat plot untuk setiap kolom kategorikal  \r\n",
        "for i, kol in enumerate(kolom_kategorikal):  \r\n",
        "    # Membuat Plot\r\n",
        "    sns.countplot(df[kol], order = df[kol].value_counts().index,ax= axs[i])  \r\n",
        "    axs[i].set_title('\\nCount Plot %s\\n'%(kol), fontsize=15)  \r\n",
        "      \r\n",
        "    # Memberikan anotasi  \r\n",
        "    for p in axs[i].patches:  \r\n",
        "        axs[i].annotate(format(p.get_height(), '.0f'),  \r\n",
        "                        (p.get_x() + p.get_width() / 2., p.get_height()),  \r\n",
        "                        ha = 'center',  \r\n",
        "                        va = 'center',  \r\n",
        "                        xytext = (0, 10),  \r\n",
        "                        textcoords = 'offset points') \r\n",
        "          \r\n",
        "    # Setting Plot  \r\n",
        "    sns.despine(right=True,top = True, left = True)  \r\n",
        "    axs[i].axes.yaxis.set_visible(False) \r\n",
        "    plt.setp(ax)\r\n",
        "    plt.tight_layout()\r\n",
        "\r\n",
        "# Tampilkan plot\r\n",
        "plt.show()"
      ],
      "execution_count": null,
      "outputs": [
        {
          "output_type": "stream",
          "text": [
            "/usr/local/lib/python3.6/dist-packages/seaborn/_decorators.py:43: FutureWarning: Pass the following variable as a keyword arg: x. From version 0.12, the only valid positional argument will be `data`, and passing other arguments without an explicit keyword will result in an error or misinterpretation.\n",
            "  FutureWarning\n"
          ],
          "name": "stderr"
        },
        {
          "output_type": "error",
          "ename": "NameError",
          "evalue": "ignored",
          "traceback": [
            "\u001b[0;31m---------------------------------------------------------------------------\u001b[0m",
            "\u001b[0;31mNameError\u001b[0m                                 Traceback (most recent call last)",
            "\u001b[0;32m<ipython-input-15-3e81c379b8a0>\u001b[0m in \u001b[0;36m<module>\u001b[0;34m()\u001b[0m\n\u001b[1;32m     26\u001b[0m     \u001b[0msns\u001b[0m\u001b[0;34m.\u001b[0m\u001b[0mdespine\u001b[0m\u001b[0;34m(\u001b[0m\u001b[0mright\u001b[0m\u001b[0;34m=\u001b[0m\u001b[0;32mTrue\u001b[0m\u001b[0;34m,\u001b[0m\u001b[0mtop\u001b[0m \u001b[0;34m=\u001b[0m \u001b[0;32mTrue\u001b[0m\u001b[0;34m,\u001b[0m \u001b[0mleft\u001b[0m \u001b[0;34m=\u001b[0m \u001b[0;32mTrue\u001b[0m\u001b[0;34m)\u001b[0m\u001b[0;34m\u001b[0m\u001b[0;34m\u001b[0m\u001b[0m\n\u001b[1;32m     27\u001b[0m     \u001b[0maxs\u001b[0m\u001b[0;34m[\u001b[0m\u001b[0mi\u001b[0m\u001b[0;34m]\u001b[0m\u001b[0;34m.\u001b[0m\u001b[0maxes\u001b[0m\u001b[0;34m.\u001b[0m\u001b[0myaxis\u001b[0m\u001b[0;34m.\u001b[0m\u001b[0mset_visible\u001b[0m\u001b[0;34m(\u001b[0m\u001b[0;32mFalse\u001b[0m\u001b[0;34m)\u001b[0m\u001b[0;34m\u001b[0m\u001b[0;34m\u001b[0m\u001b[0m\n\u001b[0;32m---> 28\u001b[0;31m     \u001b[0mplt\u001b[0m\u001b[0;34m.\u001b[0m\u001b[0msetp\u001b[0m\u001b[0;34m(\u001b[0m\u001b[0max\u001b[0m\u001b[0;34m)\u001b[0m\u001b[0;34m\u001b[0m\u001b[0;34m\u001b[0m\u001b[0m\n\u001b[0m\u001b[1;32m     29\u001b[0m     \u001b[0mplt\u001b[0m\u001b[0;34m.\u001b[0m\u001b[0mtight_layout\u001b[0m\u001b[0;34m(\u001b[0m\u001b[0;34m)\u001b[0m\u001b[0;34m\u001b[0m\u001b[0;34m\u001b[0m\u001b[0m\n\u001b[1;32m     30\u001b[0m \u001b[0;34m\u001b[0m\u001b[0m\n",
            "\u001b[0;31mNameError\u001b[0m: name 'ax' is not defined"
          ]
        },
        {
          "output_type": "display_data",
          "data": {
            "text/plain": [
              "<Figure size 432x288 with 0 Axes>"
            ]
          },
          "metadata": {
            "tags": []
          }
        },
        {
          "output_type": "display_data",
          "data": {
            "image/png": "[encoded data removed]",
            "text/plain": [
              "<Figure size 504x720 with 3 Axes>"
            ]
          },
          "metadata": {
            "tags": []
          }
        }
      ]
    },
    {
      "cell_type": "markdown",
      "metadata": {
        "id": "vm-Mvk9UQZbd"
      },
      "source": [
        "**Standarisasi Kolom Numerik**\r\n",
        "\r\n",
        "Supaya mendapatkan hasil yang maksimal dalam penerapan algoritma ini, kita perlu menjadikan data-data numerik yang kamu miliki berada pada satu skala. Hal ini dapat di lakukan dengan melakukan standardisasi data yang dimiliki. \r\n",
        "\r\n",
        "Tujuannya adalah agar variabel yang memiliki skala besar tidak mendominasi bagaimana cluster akan di bentuk dan juga tiap variabel akan di anggap sama pentingnya oleh algoritma yang akan di gunakan."
      ]
    },
    {
      "cell_type": "code",
      "metadata": {
        "colab": {
          "base_uri": "https://localhost:8080/"
        },
        "id": "rp2_IWXAL9lJ",
        "outputId": "5f278bc2-a744-489a-a796-2f1a80d9d2c7"
      },
      "source": [
        "from sklearn.preprocessing import StandardScaler  \r\n",
        "  \r\n",
        "kolom_numerik = ['Umur','NilaiBelanjaSetahun']  \r\n",
        "  \r\n",
        "# Statistik sebelum Standardisasi  \r\n",
        "print('Statistik Sebelum Standardisasi\\n')  \r\n",
        "print(df[kolom_numerik].describe().round(1))  \r\n",
        "  \r\n",
        "# Standardisasi  \r\n",
        "df_std = StandardScaler().fit_transform(df[kolom_numerik])  \r\n",
        "  \r\n",
        "# Membuat DataFrame  \r\n",
        "df_std = pd.DataFrame(data=df_std, index=df.index, columns=df[kolom_numerik].columns)  \r\n",
        "  \r\n",
        "# Menampilkan contoh isi data dan summary statistic  \r\n",
        "print('Contoh hasil standardisasi\\n')  \r\n",
        "print(df_std.head())  \r\n",
        "  \r\n",
        "print('Statistik hasil standardisasi\\n')  \r\n",
        "print(df_std.describe().round(0))  \r\n"
      ],
      "execution_count": null,
      "outputs": [
        {
          "output_type": "stream",
          "text": [
            "Statistik Sebelum Standardisasi\n",
            "\n",
            "       Umur  NilaiBelanjaSetahun\n",
            "count  50.0                 50.0\n",
            "mean   37.5            7069874.8\n",
            "std    14.7            2590619.0\n",
            "min    14.0            2722700.0\n",
            "25%    25.0            5257529.8\n",
            "50%    35.0            5980077.0\n",
            "75%    49.8            9739615.0\n",
            "max    64.0           10884508.0\n",
            "Contoh hasil standardisasi\n",
            "\n",
            "       Umur  NilaiBelanjaSetahun\n",
            "0  1.411245             0.946763\n",
            "1 -1.617768            -1.695081\n",
            "2  0.722833            -0.695414\n",
            "3  1.067039            -0.727361\n",
            "4  0.240944             1.382421\n",
            "Statistik hasil standardisasi\n",
            "\n",
            "       Umur  NilaiBelanjaSetahun\n",
            "count  50.0                 50.0\n",
            "mean    0.0                 -0.0\n",
            "std     1.0                  1.0\n",
            "min    -2.0                 -2.0\n",
            "25%    -1.0                 -1.0\n",
            "50%    -0.0                 -0.0\n",
            "75%     1.0                  1.0\n",
            "max     2.0                  1.0\n"
          ],
          "name": "stdout"
        }
      ]
    },
    {
      "cell_type": "markdown",
      "metadata": {
        "id": "XXC-mGzrM5Ro"
      },
      "source": [
        "**Konversi Kategorikal Data dengan Label Encoder**\r\n",
        "\r\n",
        "Selanjutnya merubah kolom-kolom yang berjenis kategorikal menjadi angka menggunakan salah satu fungsi dari sklearn yaitu **LabelEncoder**. Pada dasarnya fungsi ini akan melakukan konversi data pelanggan dari teks menjadi numerik.\r\n",
        "\r\n",
        "Sebagai contoh untuk kolom Jenis Kelamin, teks \"Pria\" akan dirubah menjadi angka 0 dan teks \"Wanita\" akan di rubah menjadi angka satu. Perubahan ini perlu kita untuk semua teks sebelum di gunakan pada algoritma K-Prototype."
      ]
    },
    {
      "cell_type": "code",
      "metadata": {
        "colab": {
          "base_uri": "https://localhost:8080/"
        },
        "id": "N3p5dnQaNL0n",
        "outputId": "c3ce8cf9-d02d-45fc-b0af-2f7b4bc53f59"
      },
      "source": [
        "from sklearn.preprocessing import LabelEncoder\r\n",
        "  \r\n",
        "# Inisiasi nama kolom kategorikal  \r\n",
        "kolom_kategorikal = ['Jenis Kelamin','Profesi','Tipe Residen']\r\n",
        "\r\n",
        "# Membuat salinan data frame\r\n",
        "df_encode = df[kolom_kategorikal].copy() \r\n",
        "  \r\n",
        "  \r\n",
        "# Melakukan labelEncoder untuk semua kolom kategorikal  \r\n",
        "for col in kolom_kategorikal:  \r\n",
        "    df_encode[col] = LabelEncoder().fit_transform(df_encode[col])\r\n",
        "      \r\n",
        "# Menampilkan data  \r\n",
        "print(df_encode.head())\r\n"
      ],
      "execution_count": null,
      "outputs": [
        {
          "output_type": "stream",
          "text": [
            "   Jenis Kelamin  Profesi  Tipe Residen\n",
            "0              0        4             1\n",
            "1              1        2             0\n",
            "2              0        3             0\n",
            "3              0        3             0\n",
            "4              1        4             0\n"
          ],
          "name": "stdout"
        }
      ]
    },
    {
      "cell_type": "markdown",
      "metadata": {
        "id": "IEzJ-p4wNRmh"
      },
      "source": [
        "**Menggabungkan Data untuk Permodelan**\r\n",
        "\r\n",
        "Setelah menyelesaikan dua tahap sebelumnya, dilakukan penggabungan kedua hasil pemrosesan tersebut menjadi satu data frame. Data frame ini yang akan di gunakan untuk permodelan."
      ]
    },
    {
      "cell_type": "code",
      "metadata": {
        "colab": {
          "base_uri": "https://localhost:8080/"
        },
        "id": "lKDFeoqXOCpw",
        "outputId": "309332f0-b1f0-4c56-bdf2-6a5c97fe745d"
      },
      "source": [
        "# Menggabungkan data frame\r\n",
        "df_model = df_encode.merge(df_std, left_index = True, right_index=True, how= 'left')  \r\n",
        "print(df_model.head())\r\n"
      ],
      "execution_count": null,
      "outputs": [
        {
          "output_type": "stream",
          "text": [
            "   Jenis Kelamin  Profesi  Tipe Residen      Umur  NilaiBelanjaSetahun\n",
            "0              0        4             1  1.411245             0.946763\n",
            "1              1        2             0 -1.617768            -1.695081\n",
            "2              0        3             0  0.722833            -0.695414\n",
            "3              0        3             0  1.067039            -0.727361\n",
            "4              1        4             0  0.240944             1.382421\n"
          ],
          "name": "stdout"
        }
      ]
    },
    {
      "cell_type": "markdown",
      "metadata": {
        "id": "LoZmr346QuG5"
      },
      "source": [
        "# PART 2\r\n",
        "\r\n",
        "**Mencari Jumlah Cluster yang Optimal**\r\n",
        "\r\n",
        "Salah satu parameter penting yang harus di masukkan pada algoritma kprototype adalah jumlah cluster yang diinginkan. Oleh karena itu, perlu mencari jumlah cluster yang optimal. Salah satu cara untuk mendapatkan nilai optimal tersebut adalah dengan menggunnakan bantuan 'elbow plot'.\r\n",
        "\r\n",
        "Elbow plot ini dapat di buat dengan cara  memvisualisasikan total jarak seluruh data kita ke pusat cluster nya. Selanjutnya kita memilih titik siku dari pola yang terbentuk dan menjadikannya sebagai jumlah cluster kita.\r\n",
        "\r\n",
        "Untuk melakukan hal ini kamu perlu menjalankan algoritma kprototypes dengan berbagai jumlah cluster. Selanjutnya kamu juga menyimpan nilai cost_ dan memvisualisasikan nya dengan line plot atau point plot."
      ]
    },
    {
      "cell_type": "code",
      "metadata": {
        "colab": {
          "base_uri": "https://localhost:8080/",
          "height": 268
        },
        "id": "b1KmYek8Rs9O",
        "outputId": "0e434623-ff60-4002-e662-96c01eeccd69"
      },
      "source": [
        "from kmodes.kmodes import KModes  \r\n",
        "from kmodes.kprototypes import KPrototypes  \r\n",
        "import pandas as pd\r\n",
        "import seaborn as sns\r\n",
        "import matplotlib.pyplot as plt  \r\n",
        "df_model = pd.read_csv('https://dqlab-dataset.s3-ap-southeast-1.amazonaws.com/df-customer-segmentation.csv')\r\n",
        "\r\n",
        "# Melakukan Iterasi untuk Mendapatkan nilai Cost  \r\n",
        "cost = {}  \r\n",
        "for k in range(2,10):  \r\n",
        "    kproto = KPrototypes(n_clusters = k,random_state=75)  \r\n",
        "    kproto.fit_predict(df_model, categorical=[0,1,2])  \r\n",
        "    cost[k]= kproto.cost_  \r\n",
        "  \r\n",
        "# Memvisualisasikan Elbow Plot  \r\n",
        "sns.pointplot(x=list(cost.keys()), y=list(cost.values()))  \r\n",
        "plt.show()\r\n"
      ],
      "execution_count": null,
      "outputs": [
        {
          "output_type": "display_data",
          "data": {
            "image/png": "[encoded data removed]",
            "text/plain": [
              "<Figure size 432x288 with 1 Axes>"
            ]
          },
          "metadata": {
            "tags": []
          }
        }
      ]
    },
    {
      "cell_type": "markdown",
      "metadata": {
        "id": "GoKtzoz_SaDm"
      },
      "source": [
        "**Membuat Model**"
      ]
    },
    {
      "cell_type": "code",
      "metadata": {
        "id": "_oncuL4LTrn3"
      },
      "source": [
        "import pickle \r\n",
        "from kmodes.kmodes import KModes \r\n",
        "from kmodes.kprototypes import KPrototypes  \r\n",
        "  \r\n",
        "kproto = KPrototypes( n_clusters = 5, random_state = 75)  \r\n",
        "kproto = kproto.fit(df_model, categorical=[0,1,2])  \r\n",
        "  \r\n",
        "#Save Model  \r\n",
        "pickle.dump(kproto, open('cluster.pkl', 'wb'))  \r\n"
      ],
      "execution_count": null,
      "outputs": []
    },
    {
      "cell_type": "markdown",
      "metadata": {
        "id": "DhtTH2miUACo"
      },
      "source": [
        "Menggunakan model tersebut untuk menentukan segmen pelanggan yang ada di data set."
      ]
    },
    {
      "cell_type": "code",
      "metadata": {
        "colab": {
          "base_uri": "https://localhost:8080/"
        },
        "id": "SgwzLD76UCBY",
        "outputId": "8ddce2b3-c444-4a8c-dd0d-0deee3460588"
      },
      "source": [
        "df = pd.read_csv(\"https://dqlab-dataset.s3-ap-southeast-1.amazonaws.com/customer_segments.txt\", sep=\"\\t\") \r\n",
        "# Menentukan segmen tiap pelanggan    \r\n",
        "clusters =  kproto.predict(df_model, categorical=[0,1,2])    \r\n",
        "print('segmen pelanggan: {}\\n'.format(clusters))    \r\n",
        "    \r\n",
        "# Menggabungkan data awal dan segmen pelanggan    \r\n",
        "df_final = df.copy()    \r\n",
        "df_final['cluster'] = clusters\r\n",
        "print(df_final.head(10))  "
      ],
      "execution_count": null,
      "outputs": [
        {
          "output_type": "stream",
          "text": [
            "segmen pelanggan: [1 2 4 4 0 3 1 4 3 3 4 4 1 1 0 3 3 4 0 2 0 4 3 0 0 4 0 3 4 4 2 1 2 0 3 0 3\n",
            " 1 3 2 3 0 3 0 3 0 4 1 3 1]\n",
            "\n",
            "  Customer_ID         Nama Pelanggan  ... NilaiBelanjaSetahun  cluster\n",
            "0    CUST-001           Budi Anggara  ...             9497927        1\n",
            "1    CUST-002       Shirley Ratuwati  ...             2722700        2\n",
            "2    CUST-003           Agus Cahyono  ...             5286429        4\n",
            "3    CUST-004       Antonius Winarta  ...             5204498        4\n",
            "4    CUST-005    Ibu Sri Wahyuni, IR  ...            10615206        0\n",
            "5    CUST-006        Rosalina Kurnia  ...             5215541        3\n",
            "6    CUST-007          Cahyono, Agus  ...             9837260        1\n",
            "7    CUST-008         Danang Santosa  ...             5223569        4\n",
            "8    CUST-009  Elisabeth Suryadinata  ...             5993218        3\n",
            "9    CUST-010         Mario Setiawan  ...             5257448        3\n",
            "\n",
            "[10 rows x 8 columns]\n"
          ],
          "name": "stdout"
        }
      ]
    },
    {
      "cell_type": "markdown",
      "metadata": {
        "id": "YtBymnk5UkmU"
      },
      "source": [
        "**Menampilkan Cluster Tiap Pelanggan**"
      ]
    },
    {
      "cell_type": "code",
      "metadata": {
        "colab": {
          "base_uri": "https://localhost:8080/"
        },
        "id": "kXWGEyCZUZTr",
        "outputId": "6f1ff4f4-f11a-44c9-d8df-f1ab45a37442"
      },
      "source": [
        "# Menampilkan data pelanggan berdasarkan cluster nya  \r\n",
        "for i in range (0,5):  \r\n",
        "    print('\\nPelanggan cluster: {}\\n'.format(i))  \r\n",
        "    print(df_final[df_final['cluster']== i])\r\n"
      ],
      "execution_count": null,
      "outputs": [
        {
          "output_type": "stream",
          "text": [
            "\n",
            "Pelanggan cluster: 0\n",
            "\n",
            "   Customer_ID       Nama Pelanggan  ... NilaiBelanjaSetahun  cluster\n",
            "4     CUST-005  Ibu Sri Wahyuni, IR  ...            10615206        0\n",
            "14    CUST-015     Shirley Ratuwati  ...            10365668        0\n",
            "18    CUST-019         Mega Pranoto  ...            10884508        0\n",
            "20    CUST-021     Lestari Fabianto  ...             9222070        0\n",
            "23    CUST-024        Putri Ginting  ...            10259572        0\n",
            "24    CUST-025       Julia Setiawan  ...            10721998        0\n",
            "26    CUST-027        Grace Mulyati  ...             9114159        0\n",
            "33    CUST-034       Deasy Arisandi  ...             9759822        0\n",
            "35    CUST-036       Ni Made Suasti  ...             9678994        0\n",
            "41    CUST-042         Yuliana Wati  ...             9880607        0\n",
            "43    CUST-044                 Anna  ...             9339737        0\n",
            "45    CUST-046         Elfira Surya  ...            10099807        0\n",
            "\n",
            "[12 rows x 8 columns]\n",
            "\n",
            "Pelanggan cluster: 1\n",
            "\n",
            "   Customer_ID    Nama Pelanggan  ... NilaiBelanjaSetahun  cluster\n",
            "0     CUST-001      Budi Anggara  ...             9497927        1\n",
            "6     CUST-007     Cahyono, Agus  ...             9837260        1\n",
            "12    CUST-013      Cahaya Putri  ...             9333168        1\n",
            "13    CUST-014    Mario Setiawan  ...             9471615        1\n",
            "31    CUST-032   Chintya Winarni  ...            10663179        1\n",
            "37    CUST-038      Agatha Salim  ...            10477127        1\n",
            "47    CUST-048  Maria Hutagalung  ...            10390732        1\n",
            "49    CUST-050    Lianna Nugraha  ...            10569316        1\n",
            "\n",
            "[8 rows x 8 columns]\n",
            "\n",
            "Pelanggan cluster: 2\n",
            "\n",
            "   Customer_ID    Nama Pelanggan  ... NilaiBelanjaSetahun  cluster\n",
            "1     CUST-002  Shirley Ratuwati  ...             2722700        2\n",
            "19    CUST-020    Irene Novianto  ...             2896845        2\n",
            "30    CUST-031     Eviana Handry  ...             3042773        2\n",
            "32    CUST-033   Cecilia Kusnadi  ...             3047926        2\n",
            "39    CUST-040    Irene Darmawan  ...             2861855        2\n",
            "\n",
            "[5 rows x 8 columns]\n",
            "\n",
            "Pelanggan cluster: 3\n",
            "\n",
            "   Customer_ID         Nama Pelanggan  ... NilaiBelanjaSetahun  cluster\n",
            "5     CUST-006        Rosalina Kurnia  ...             5215541        3\n",
            "8     CUST-009  Elisabeth Suryadinata  ...             5993218        3\n",
            "9     CUST-010         Mario Setiawan  ...             5257448        3\n",
            "15    CUST-016           Bambang Rudi  ...             5262521        3\n",
            "16    CUST-017              Yuni Sari  ...             5677762        3\n",
            "22    CUST-023        Denny Amiruddin  ...             5239290        3\n",
            "27    CUST-028          Adeline Huang  ...             6631680        3\n",
            "34    CUST-035                Ida Ayu  ...             5962575        3\n",
            "36    CUST-037       Felicia Tandiono  ...             5972787        3\n",
            "38    CUST-039           Gina Hidayat  ...             5257775        3\n",
            "40    CUST-041       Shinta Aritonang  ...             6820976        3\n",
            "42    CUST-043           Yenna Sumadi  ...             5268410        3\n",
            "44    CUST-045         Rismawati Juni  ...             5211041        3\n",
            "48    CUST-049        Josephine Wahab  ...             4992585        3\n",
            "\n",
            "[14 rows x 8 columns]\n",
            "\n",
            "Pelanggan cluster: 4\n",
            "\n",
            "   Customer_ID     Nama Pelanggan  ... NilaiBelanjaSetahun  cluster\n",
            "2     CUST-003       Agus Cahyono  ...             5286429        4\n",
            "3     CUST-004   Antonius Winarta  ...             5204498        4\n",
            "7     CUST-008     Danang Santosa  ...             5223569        4\n",
            "10    CUST-011     Maria Suryawan  ...             5987367        4\n",
            "11    CUST-012    Erliana Widjaja  ...             5941914        4\n",
            "17    CUST-018        Nelly Halim  ...             5340690        4\n",
            "21    CUST-022       Novita Purba  ...             5298157        4\n",
            "25    CUST-026  Christine Winarto  ...             5269392        4\n",
            "28    CUST-029       Tia Hartanti  ...             5271845        4\n",
            "29    CUST-030     Rosita Saragih  ...             5020976        4\n",
            "46    CUST-047        Mira Kurnia  ...             6130724        4\n",
            "\n",
            "[11 rows x 8 columns]\n"
          ],
          "name": "stdout"
        }
      ]
    },
    {
      "cell_type": "markdown",
      "metadata": {
        "id": "pkhINSFbVOOD"
      },
      "source": [
        "**Visualisasi Hasil Clustering - Box Plot**"
      ]
    },
    {
      "cell_type": "code",
      "metadata": {
        "colab": {
          "base_uri": "https://localhost:8080/",
          "height": 645
        },
        "id": "MLdWObNuVN79",
        "outputId": "fe720856-322e-49b8-b592-9181a7ec234b"
      },
      "source": [
        "import matplotlib.pyplot as plt\r\n",
        "# Data Numerical\r\n",
        "kolom_numerik = ['Umur','NilaiBelanjaSetahun']  \r\n",
        "  \r\n",
        "for i in kolom_numerik:  \r\n",
        "    plt.figure(figsize=(6,4))  \r\n",
        "    ax = sns.boxplot(x = 'cluster',y = i, data = df_final)  \r\n",
        "    plt.title('\\nBox Plot {}\\n'.format(i), fontsize=12)  \r\n",
        "    plt.show() "
      ],
      "execution_count": null,
      "outputs": [
        {
          "output_type": "display_data",
          "data": {
            "image/png": "[encoded data removed]",
            "text/plain": [
              "<Figure size 432x288 with 1 Axes>"
            ]
          },
          "metadata": {
            "tags": []
          }
        },
        {
          "output_type": "display_data",
          "data": {
            "image/png": "[encoded data removed]",
            "text/plain": [
              "<Figure size 432x288 with 1 Axes>"
            ]
          },
          "metadata": {
            "tags": []
          }
        }
      ]
    },
    {
      "cell_type": "markdown",
      "metadata": {
        "id": "uKrZvVkJV3HU"
      },
      "source": [
        "**Visualisasi Hasil Clustering - Count Plot**"
      ]
    },
    {
      "cell_type": "code",
      "metadata": {
        "colab": {
          "base_uri": "https://localhost:8080/",
          "height": 959
        },
        "id": "uxNlYUadWgCn",
        "outputId": "3f80bb89-160d-46cc-8254-86e70e1ea87e"
      },
      "source": [
        "import matplotlib.pyplot as plt  \r\n",
        "# Data Kategorikal  \r\n",
        "kolom_categorical = ['Jenis Kelamin','Profesi','Tipe Residen']  \r\n",
        "  \r\n",
        "for i in kolom_categorical:  \r\n",
        "    plt.figure(figsize=(6,4))  \r\n",
        "    ax = sns.countplot(data = df_final , x = 'cluster', hue = i )  \r\n",
        "    plt.title('\\nCount Plot {}\\n'.format(i), fontsize=12)  \r\n",
        "    ax.legend(loc=\"upper center\")  \r\n",
        "    for p in ax.patches:  \r\n",
        "        ax.annotate(format(p.get_height(), '.0f'),  \r\n",
        "                    (p.get_x() + p.get_width() / 2., p.get_height()),  \r\n",
        "                     ha = 'center',  \r\n",
        "                     va = 'center',  \r\n",
        "                     xytext = (0, 10),  \r\n",
        "                     textcoords = 'offset points')  \r\n",
        "      \r\n",
        "    sns.despine(right=True,top = True, left = True)  \r\n",
        "    ax.axes.yaxis.set_visible(False)  \r\n",
        "    plt.show()  \r\n"
      ],
      "execution_count": null,
      "outputs": [
        {
          "output_type": "display_data",
          "data": {
            "image/png": "[encoded data removed]",
            "text/plain": [
              "<Figure size 432x288 with 1 Axes>"
            ]
          },
          "metadata": {
            "tags": []
          }
        },
        {
          "output_type": "display_data",
          "data": {
            "image/png": "[encoded data removed]",
            "text/plain": [
              "<Figure size 432x288 with 1 Axes>"
            ]
          },
          "metadata": {
            "tags": []
          }
        },
        {
          "output_type": "display_data",
          "data": {
            "image/png": "[encoded data removed]",
            "text/plain": [
              "<Figure size 432x288 with 1 Axes>"
            ]
          },
          "metadata": {
            "tags": []
          }
        }
      ]
    },
    {
      "cell_type": "markdown",
      "metadata": {
        "id": "5suTJQ5YWsiC"
      },
      "source": [
        "**Menamakan Cluster**\r\n",
        "\r\n",
        "Dari hasil observasi yang dilakukan maka dapat memberikan nama segmen dari tiap tiap nomor kluster nya. Yaitu:\r\n",
        "\r\n",
        "- Cluster 0: Diamond Young Entrepreneur, isi cluster ini adalah para wiraswasta yang memiliki nilai transaksi rata-rata mendekati 10 juta. Selain itu isi dari cluster ini memiliki umur sekitar 18 - 41 tahun dengan rata-ratanya adalah 29 tahun.\r\n",
        "\r\n",
        "- Cluster 1: Diamond Senior Entrepreneur, isi cluster ini adalah para wiraswata yang memiliki nilai transaksi rata-rata mendekati 10 juta. Isi dari cluster ini memiliki umur sekitar 45 - 64 tahun dengan rata-ratanya adalah 55 tahun.\r\n",
        "\r\n",
        "- Cluster 2: Silver Students, isi cluster ini adalah para pelajar dan mahasiswa dengan rata-rata umur mereka adalah 16 tahun dan nilai belanja setahun mendekati 3 juta.\r\n",
        "\r\n",
        "- Cluster 3: Gold Young Member, isi cluster ini adalah para professional dan ibu rumah tangga yang berusia muda dengan rentang umur sekitar 20 - 40 tahun dan dengan rata-rata 30 tahun dan nilai belanja setahun nya mendekati 6 juta.\r\n",
        "\r\n",
        "- Cluster 4: Gold Senior Member, isi cluster ini adalah para professional dan ibu rumah tangga yang berusia tua dengan rentang umur 46 - 63 tahun dan dengan rata-rata 53 tahun dan nilai belanja setahun nya mendekati 6 juta."
      ]
    },
    {
      "cell_type": "code",
      "metadata": {
        "colab": {
          "base_uri": "https://localhost:8080/"
        },
        "id": "g3cnkp4wWrMw",
        "outputId": "ab6c6519-fc23-454d-82b7-3fe01a7c7948"
      },
      "source": [
        "# Mapping nama kolom  \r\n",
        "df_final['segmen'] = df_final['cluster'].map({  \r\n",
        "    0: 'Diamond Young Member',  \r\n",
        "    1: 'Diamond Senior Member',  \r\n",
        "    2: 'Silver Member',  \r\n",
        "    3: 'Gold Young Member',  \r\n",
        "    4: 'Gold Senior Member'  \r\n",
        "})  \r\n",
        "\r\n",
        "print(df_final.info())\r\n",
        "print(df_final.head(10))  \r\n"
      ],
      "execution_count": null,
      "outputs": [
        {
          "output_type": "stream",
          "text": [
            "<class 'pandas.core.frame.DataFrame'>\n",
            "RangeIndex: 50 entries, 0 to 49\n",
            "Data columns (total 9 columns):\n",
            " #   Column               Non-Null Count  Dtype \n",
            "---  ------               --------------  ----- \n",
            " 0   Customer_ID          50 non-null     object\n",
            " 1   Nama Pelanggan       50 non-null     object\n",
            " 2   Jenis Kelamin        50 non-null     object\n",
            " 3   Umur                 50 non-null     int64 \n",
            " 4   Profesi              50 non-null     object\n",
            " 5   Tipe Residen         50 non-null     object\n",
            " 6   NilaiBelanjaSetahun  50 non-null     int64 \n",
            " 7   cluster              50 non-null     uint16\n",
            " 8   segmen               50 non-null     object\n",
            "dtypes: int64(2), object(6), uint16(1)\n",
            "memory usage: 3.3+ KB\n",
            "None\n",
            "  Customer_ID         Nama Pelanggan  ... cluster                 segmen\n",
            "0    CUST-001           Budi Anggara  ...       1  Diamond Senior Member\n",
            "1    CUST-002       Shirley Ratuwati  ...       2          Silver Member\n",
            "2    CUST-003           Agus Cahyono  ...       4     Gold Senior Member\n",
            "3    CUST-004       Antonius Winarta  ...       4     Gold Senior Member\n",
            "4    CUST-005    Ibu Sri Wahyuni, IR  ...       0   Diamond Young Member\n",
            "5    CUST-006        Rosalina Kurnia  ...       3      Gold Young Member\n",
            "6    CUST-007          Cahyono, Agus  ...       1  Diamond Senior Member\n",
            "7    CUST-008         Danang Santosa  ...       4     Gold Senior Member\n",
            "8    CUST-009  Elisabeth Suryadinata  ...       3      Gold Young Member\n",
            "9    CUST-010         Mario Setiawan  ...       3      Gold Young Member\n",
            "\n",
            "[10 rows x 9 columns]\n"
          ],
          "name": "stdout"
        }
      ]
    },
    {
      "cell_type": "markdown",
      "metadata": {
        "id": "hls4_4xiXl_V"
      },
      "source": [
        "**Mempersiapkan Data Baru**\r\n",
        "\r\n",
        "bagian ini merupakan pengecekan dengan membuat contoh data baru untuk di prediksi dengan model yang sudah di buat. Hal ini dilakukan dengan membuat satu buah dataframe yang berisi informasi pelanggan."
      ]
    },
    {
      "cell_type": "code",
      "metadata": {
        "colab": {
          "base_uri": "https://localhost:8080/"
        },
        "id": "LsjTwFjNYQPK",
        "outputId": "82cdd3fe-4861-46e8-fed9-ff048d46e2d6"
      },
      "source": [
        "# Data Baru  \r\n",
        "data = [{  \r\n",
        "    'Customer_ID': 'CUST-100' ,  \r\n",
        "    'Nama Pelanggan': 'Joko' ,  \r\n",
        "    'Jenis Kelamin': 'Pria',  \r\n",
        "    'Umur': 45,  \r\n",
        "    'Profesi': 'Wiraswasta',  \r\n",
        "    'Tipe Residen': 'Cluster' ,  \r\n",
        "    'NilaiBelanjaSetahun': 8230000  \r\n",
        "      \r\n",
        "}]  \r\n",
        "  \r\n",
        "# Membuat Data Frame  \r\n",
        "new_df = pd.DataFrame(data)  \r\n",
        "  \r\n",
        "# Melihat Data  \r\n",
        "print(new_df) "
      ],
      "execution_count": null,
      "outputs": [
        {
          "output_type": "stream",
          "text": [
            "  Customer_ID Nama Pelanggan  ... Tipe Residen  NilaiBelanjaSetahun\n",
            "0    CUST-100           Joko  ...      Cluster              8230000\n",
            "\n",
            "[1 rows x 7 columns]\n"
          ],
          "name": "stdout"
        }
      ]
    },
    {
      "cell_type": "markdown",
      "metadata": {
        "id": "wRmVGF77YgyF"
      },
      "source": [
        "**Membuat Fungsi Data Pemrosesan**"
      ]
    },
    {
      "cell_type": "code",
      "metadata": {
        "colab": {
          "base_uri": "https://localhost:8080/"
        },
        "id": "2d9SWjbKaGQM",
        "outputId": "34736cc9-9e28-47b8-d19e-9efb5e9503e3"
      },
      "source": [
        "def data_preprocess(data):  \r\n",
        "    # Konversi Kategorikal data  \r\n",
        "    kolom_kategorikal = ['Jenis Kelamin','Profesi','Tipe Residen']  \r\n",
        "      \r\n",
        "    df_encode = data[kolom_kategorikal].copy()  \r\n",
        "  \r\n",
        "    ## Jenis Kelamin   \r\n",
        "    df_encode['Jenis Kelamin'] = df_encode['Jenis Kelamin'].map({  \r\n",
        "        'Pria': 0,  \r\n",
        "        'Wanita' : 1  \r\n",
        "    })  \r\n",
        "      \r\n",
        "    ## Profesi  \r\n",
        "    df_encode['Profesi'] = df_encode['Profesi'].map({  \r\n",
        "        'Ibu Rumah Tangga': 0,  \r\n",
        "        'Mahasiswa' : 1,  \r\n",
        "        'Pelajar': 2,  \r\n",
        "        'Professional': 3,  \r\n",
        "        'Wiraswasta': 4  \r\n",
        "    })  \r\n",
        "      \r\n",
        "    ## Tipe Residen  \r\n",
        "    df_encode['Tipe Residen'] = df_encode['Tipe Residen'].map({  \r\n",
        "        'Cluster': 0,  \r\n",
        "        'Sector' : 1  \r\n",
        "    })  \r\n",
        "      \r\n",
        "    # Standardisasi Numerical Data  \r\n",
        "    kolom_numerik = ['Umur','NilaiBelanjaSetahun']  \r\n",
        "    df_std = data[kolom_numerik].copy()  \r\n",
        "      \r\n",
        "    ## Standardisasi Kolom Umur  \r\n",
        "    df_std['Umur'] = (df_std['Umur'] - 37.5)/14.7  \r\n",
        "      \r\n",
        "    ## Standardisasi Kolom Nilai Belanja Setahun  \r\n",
        "    df_std['NilaiBelanjaSetahun'] = (df_std['NilaiBelanjaSetahun'] - 7069874.8)/2590619.0  \r\n",
        "      \r\n",
        "    # Menggabungkan Kategorikal dan numerikal data  \r\n",
        "    df_model = df_encode.merge(df_std, left_index = True,  \r\n",
        "                           right_index=True, how = 'left')  \r\n",
        "      \r\n",
        "    return df_model  \r\n",
        "  \r\n",
        "# Menjalankan fungsi  \r\n",
        "new_df_model = data_preprocess(new_df)  \r\n",
        "  \r\n",
        "print(new_df_model) \r\n"
      ],
      "execution_count": null,
      "outputs": [
        {
          "output_type": "stream",
          "text": [
            "   Jenis Kelamin  Profesi  Tipe Residen      Umur  NilaiBelanjaSetahun\n",
            "0              0        4             0  0.510204             0.447818\n"
          ],
          "name": "stdout"
        }
      ]
    },
    {
      "cell_type": "markdown",
      "metadata": {
        "id": "H2yPZ1uEaQQr"
      },
      "source": [
        "**Memanggil Model dan Melakukan Prediksi**"
      ]
    },
    {
      "cell_type": "code",
      "metadata": {
        "colab": {
          "base_uri": "https://localhost:8080/"
        },
        "id": "DcA1x-bVaSgX",
        "outputId": "40a64899-ff30-4cb5-ced1-42304d83a892"
      },
      "source": [
        "def modelling (data):  \r\n",
        "      \r\n",
        "    # Memanggil Model  \r\n",
        "    kpoto = pickle.load(open('cluster.pkl', 'rb'))  \r\n",
        "      \r\n",
        "    # Melakukan Prediksi  \r\n",
        "    clusters= kpoto.predict(data,categorical=[0,1,2])  \r\n",
        "      \r\n",
        "    return clusters  \r\n",
        "  \r\n",
        "# Menjalankan Fungsi  \r\n",
        "clusters = modelling(new_df_model)  \r\n",
        "  \r\n",
        "print(clusters)  \r\n"
      ],
      "execution_count": null,
      "outputs": [
        {
          "output_type": "stream",
          "text": [
            "[1]\n"
          ],
          "name": "stdout"
        }
      ]
    },
    {
      "cell_type": "markdown",
      "metadata": {
        "id": "QJPCs5BrbPRB"
      },
      "source": [
        ""
      ]
    },
    {
      "cell_type": "code",
      "metadata": {
        "colab": {
          "base_uri": "https://localhost:8080/",
          "height": 129
        },
        "id": "MmPqkNAlbP1M",
        "outputId": "14d09f4e-b4be-4ad9-a763-0c5e008691d4"
      },
      "source": [
        "def menamakan_segmen (data_asli, clusters):  \r\n",
        "      \r\n",
        "    # Menggabungkan cluster dan data asli  \r\n",
        "    final_df = data_asli.copy()\r\n",
        "\t  final_df['cluster'] = clusters\r\n",
        "      \r\n",
        "    # Menamakan segmen  \r\n",
        "    final_df['segmen'] = final_df['cluster'].map({  \r\n",
        "        0: 'Diamond Young Member',  \r\n",
        "        1: 'Diamond Senior Member',  \r\n",
        "        2: 'Silver Students',  \r\n",
        "        3: 'Gold Young Member',  \r\n",
        "        4: 'Gold Senior Member'  \r\n",
        "    })  \r\n",
        "      \r\n",
        "    return final_df\r\n",
        "  \r\n",
        "# Menjalankan Fungsi  \r\n",
        "new_final_df = menamakan_segmen(new_df,clusters)\r\n",
        "  \r\n",
        "print(new_final_df)  "
      ],
      "execution_count": null,
      "outputs": [
        {
          "output_type": "error",
          "ename": "TabError",
          "evalue": "ignored",
          "traceback": [
            "\u001b[0;36m  File \u001b[0;32m\"<ipython-input-36-7b961f37e226>\"\u001b[0;36m, line \u001b[0;32m5\u001b[0m\n\u001b[0;31m    final_df['cluster'] = clusters\u001b[0m\n\u001b[0m                                  ^\u001b[0m\n\u001b[0;31mTabError\u001b[0m\u001b[0;31m:\u001b[0m inconsistent use of tabs and spaces in indentation\n"
          ]
        }
      ]
    }
  ]
}